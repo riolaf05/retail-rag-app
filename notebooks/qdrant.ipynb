{
 "cells": [
  {
   "cell_type": "code",
   "execution_count": 1,
   "metadata": {},
   "outputs": [
    {
     "name": "stderr",
     "output_type": "stream",
     "text": [
      "c:\\Users\\ELAFACRB1\\Codice\\GitHub\\langgraph-rag-chatbot\\venv\\chatbot\\Lib\\site-packages\\tqdm\\auto.py:21: TqdmWarning: IProgress not found. Please update jupyter and ipywidgets. See https://ipywidgets.readthedocs.io/en/stable/user_install.html\n",
      "  from .autonotebook import tqdm as notebook_tqdm\n",
      "USER_AGENT environment variable not set, consider setting it to identify your requests.\n"
     ]
    }
   ],
   "source": [
    "import os\n",
    "import sys \n",
    "sys.path.append(r'C:\\Users\\ELAFACRB1\\Codice\\GitHub\\rio-utils-app\\src')\n",
    "from utils.database_managers import QDrantDBManager\n",
    "from utils.embedding import EmbeddingFunction\n",
    "from utils.text_processing import TextSplitter\n",
    "from utils.language_models import LangChainAI"
   ]
  },
  {
   "cell_type": "code",
   "execution_count": 2,
   "metadata": {},
   "outputs": [
    {
     "name": "stderr",
     "output_type": "stream",
     "text": [
      "Fetching 5 files: 100%|██████████| 5/5 [00:00<?, ?it/s]\n"
     ]
    }
   ],
   "source": [
    "embedding = EmbeddingFunction('fast-bgeEmbedding').embedder"
   ]
  },
  {
   "cell_type": "code",
   "execution_count": 3,
   "metadata": {},
   "outputs": [],
   "source": [
    "text_splitter = TextSplitter(\n",
    "    chunk_size=2000, \n",
    "    chunk_overlap=20\n",
    ")"
   ]
  },
  {
   "cell_type": "code",
   "execution_count": 4,
   "metadata": {},
   "outputs": [
    {
     "name": "stdout",
     "output_type": "stream",
     "text": [
      "Collection web-places already exists!\n"
     ]
    },
    {
     "name": "stderr",
     "output_type": "stream",
     "text": [
      "c:\\Users\\ELAFACRB1\\Codice\\GitHub\\langgraph-rag-chatbot\\venv\\chatbot\\Lib\\site-packages\\langchain_core\\_api\\deprecation.py:139: LangChainDeprecationWarning: The class `Qdrant` was deprecated in LangChain 0.0.37 and will be removed in 0.3.0. An updated version of the class exists in the langchain-qdrant package and should be used instead. To use it run `pip install -U langchain-qdrant` and import as `from langchain_qdrant import Qdrant`.\n",
      "  warn_deprecated(\n"
     ]
    }
   ],
   "source": [
    "\n",
    "QDRANT_URL=os.getenv('QDRANT_URL')\n",
    "COLLECTION_NAME=\"web-places\"\n",
    "\n",
    "qdrantClient = QDrantDBManager(\n",
    "    url=QDRANT_URL,\n",
    "    port=6333,\n",
    "    collection_name=COLLECTION_NAME,\n",
    "    vector_size=768,\n",
    "    embedding=embedding,\n",
    "    record_manager_url=\"sqlite:///record_manager_cache.sql\"\n",
    ")\n"
   ]
  },
  {
   "cell_type": "code",
   "execution_count": 5,
   "metadata": {},
   "outputs": [],
   "source": [
    "retriever = qdrantClient.vector_store.as_retriever()"
   ]
  },
  {
   "cell_type": "code",
   "execution_count": 6,
   "metadata": {},
   "outputs": [],
   "source": [
    "question = \"dove posso mangiare in montagna ?\""
   ]
  },
  {
   "cell_type": "code",
   "execution_count": 7,
   "metadata": {},
   "outputs": [
    {
     "data": {
      "text/plain": [
       "[Document(page_content='Montevecchia √® uno dei nostri posti del cuore in Brianza, merito della sua posizione stupenda su una collina a 500 metri d‚Äôaltezza, affacciata sulle vigne circostanti e da cui (nei giorni pi√π limpidi) si vede addirittura lo skyline milanese. Un modo per godervi questo panorama fantastico √® fermarvi per un aperitivo o una pasto semplice ma efficace ai Giardini di Eva, vicino alla piazzetta principale. Potrete dividere taglieri di salumi e formaggi (9-18‚Ç¨) oppure optare per piatti ‚Äòalla griglia‚Äô come panino con salamella (5‚Ç¨) o arrosticini di pecora (8‚Ç¨). Per accompagnare, vi consigliamo di approfittare della ricca selezione di birre artigianali sul menu (buonissima La Grigna!). Un locale senza pretese ma davvero piacevole d‚Äôestate, soprattutto se riuscite a farvi dare uno degli ambiti tavoli con vista. Se venite a pranzo, approfittatene poi per fare una passeggiata nel verde al Parco del Curone! Una raccomandazione: ricordatevi che nel weekend, per salire a Montevecchia in auto, dovete attivare online un pass gratuito. RISTOBAR I GIARDINI DI EVA. Localita‚Äô Ricetto 3, Montevecchia (LC). 335 8145937. Aperto da mercoled√¨ a domenica (17-00, sab e dom dalle 9). HOSTARIA VIOLA  Valeggio sul Mincio e tris di tortelli di Hostaria Viola| ¬© Alice Caprotti', metadata={'description': 'Rifugi, agriturismi, ma anche un ristorante sardo e un locale mantovano: ecco i 10 ristoranti fuori Milano provati di recente!', 'language': 'it-IT', 'source': 'html', 'title': 'Ristoranti fuori Milano: 10 indirizzi che abbiamo provato di recente - Conosco un posto', '_id': 'ac70a181-9435-5988-9b8d-6a62e18cd069', '_collection_name': 'web-places'}),\n",
       " Document(page_content='Non lontano dal lago di Garda si trova questa adorabile osteria a gestione familiare attiva sin dal 1909. Sale dalle volte bianche, pochi e semplici quadri alle pareti, rustiche sedie di legno e linde tovaglie bianche vi faranno sentire subito a vostro agio. Merito anche un personale di sala incredibilmente gentile e disponibile. Il menu √® un‚Äôoccasione perfetta per assaggiare alcuni pilastri della tradizione mantovana: dai tortelli di zucca al burro e salvia (con pasta fatta in casa) al riso alla pilota con il pesto della salamella mantovana, dal luccio in salsa con battuto di acciughe e capperi servito con la polenta alla ‚Äúfaraona alla Stefani‚Äù con uvetta, pinoli e marsala. Anche i dolci non sono da meno, non potete infatti non assaggiare la loro sbrisolona! Il perfetto pranzo della domenica da cui uscire sazi spendendo circa 40 euro a testa (bere escluso). Sebbene il ristorante da solo valga il viaggio, vi consigliamo di abbinarci la visita della vicina Borghetto sul Minci., magari in bicicletta. Da poco inserito tra i Borghi pi√π belli d‚ÄôItalia, secondo noi merita la deviazione anche solo per la vista che si gode dall‚Äôalto del Castello Scaligero! HOSTARIA VIOLA. Via Giuseppe Verdi 32, Castiglione delle Stiviere (MN). 037 6670000. Aperto da marted√¨ a domenica (12-14 e 19:30-21:30). RIFUGIO IL PASTORE  La polenta e la tartare del Rifugio Pastore | ¬© Caterina Zanzi', metadata={'description': 'Rifugi, agriturismi, ma anche un ristorante sardo e un locale mantovano: ecco i 10 ristoranti fuori Milano provati di recente!', 'language': 'it-IT', 'source': 'html', 'title': 'Ristoranti fuori Milano: 10 indirizzi che abbiamo provato di recente - Conosco un posto', '_id': '9ac0c068-9bb5-560e-9da6-366dcfdf9e2f', '_collection_name': 'web-places'}),\n",
       " Document(page_content='Chiudiamo il nostro elenco dei ristoranti fuori Milano che abbiamo provato di recente riportandovi tra le montagne, e pi√π precisamente in zona Ponte di Legno. Nel piccolo paesino di Tem√π si trova Kro, una ‚Äúlocanda‚Äù (questo il significato del nome) in pieno stile montano, accogliente e curata nei minimi dettagli. Qui potrete scegliere se mangiare in una delle ampie sale che vi accoglieranno all‚Äôingresso, oppure sondare la disponibilit√† del tavolino posto nell‚Äôaffascinante cantina, circondati dalle molte (e belle) etichette che poi ritroverete in carta, o nella stube, un‚Äôaltra saletta interamente rivestita in legno e perfetta per tavolate non numerose. La cucina si basa su ingredienti prevalentemente del territorio, con una bella rivisitazione dei piatti tipici di zona, senza tralasciare qualche proposta di pesce. Noi vi consigliamo senz‚Äôaltro di iniziare con l‚Äôantipasto della casa, previsto necessariamente per tutto il tavolo, e che comprende innumerevoli portate. Gli sciatt, un‚Äôabbondante selezione di salumi e formaggi, crostoni, fonduta di formaggio, sono solo alcuni esempi. Se vi sar√† rimasto ancora un po‚Äô di spazio (e sinceramente non ci sentiamo di garantirvelo), potrete scegliere tra un lungo elenco di pezzature e tipologie di carni provenienti un po‚Äô da tutto il mondo ‚Äì e che qui cucinano alla perfezione ‚Äì oppure tra i primi o secondi piatti proposti. Considerate un conto leggermente sopra alla media di zona (40/50‚Ç¨ per un pasto completo) ma, vista la qualit√† della proposta, per noi vale sicuramente la spesa. Menzione speciale agli ottimi dolci preparati in casa (per i nostalgici degli anni 80, segnaliamo una Ile Flottante davvero epica) e per la scelta di amari e grappe. Siamo certi che di questi ultimi ce ne sar√† decisamente bisogno! KRO. Via Tollarini 70/C, Tem√π (BS). 0364 906411. Aperto tutti i giorni (12-14 e 19-21) tranne marted√¨ e mercoled√¨.', metadata={'description': 'Rifugi, agriturismi, ma anche un ristorante sardo e un locale mantovano: ecco i 10 ristoranti fuori Milano provati di recente!', 'language': 'it-IT', 'source': 'html', 'title': 'Ristoranti fuori Milano: 10 indirizzi che abbiamo provato di recente - Conosco un posto', '_id': 'cd935d2d-9b9b-5a85-b4f6-80368ae6e75f', '_collection_name': 'web-places'}),\n",
       " Document(page_content='Non √® direttamente affacciato sul lago, ma questo ristorante di Verbania si trova in una splendida posizione sul lungolago di Pallanza, sul lago Maggiore. Il menu √® sintetico e propone piatti della tradizione piemontese e del lago con un twist, spesso internazionale. Alcuni esempi? I plin serviti con brodo speziato e tonkatsu o le tagliatelle al rag√π di seppie, canocchie e zenzero. Buonissimi anche piatti pi√π classici come il pescato del giorno, nel nostro caso un‚Äôombrina, con carote, ceci e scalogno o la frittura di lago con maionese alla ‚Äònduja. Noi ci siamo goduti il dehors, perfetto per ammirare il via vai su Piazza Garibaldi, ma per le stagioni pi√π fredde ci sentiamo di consigliare ugualmente anche l‚Äôinterno, minimalista ed elegante. Il conto finale si attesta su prezzi milanesi, circa 45 euro a testa, vino escluso: secondo noi, per√≤, assolutamente meritati! IL PORTALE. Via del Sassello 3, Verbania (VB). 0323 350167. Aperto da venerd√¨ a marted√¨ (19-22:30, sab e dom anche 12-15). RISTOBAR I GIARDINI DI EVA  La vista dai Giardini di Eva e il panino con salamella | ¬© Alice Caprotti', metadata={'description': 'Rifugi, agriturismi, ma anche un ristorante sardo e un locale mantovano: ecco i 10 ristoranti fuori Milano provati di recente!', 'language': 'it-IT', 'source': 'html', 'title': 'Ristoranti fuori Milano: 10 indirizzi che abbiamo provato di recente - Conosco un posto', '_id': 'c2ef4927-c4ef-5c23-9f96-23b7b11bf726', '_collection_name': 'web-places'})]"
      ]
     },
     "execution_count": 7,
     "metadata": {},
     "output_type": "execute_result"
    }
   ],
   "source": [
    "retriever.invoke(question)"
   ]
  }
 ],
 "metadata": {
  "kernelspec": {
   "display_name": "langchain",
   "language": "python",
   "name": "python3"
  },
  "language_info": {
   "codemirror_mode": {
    "name": "ipython",
    "version": 3
   },
   "file_extension": ".py",
   "mimetype": "text/x-python",
   "name": "python",
   "nbconvert_exporter": "python",
   "pygments_lexer": "ipython3",
   "version": "3.11.6"
  }
 },
 "nbformat": 4,
 "nbformat_minor": 2
}
