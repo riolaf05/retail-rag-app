{
 "cells": [
  {
   "cell_type": "code",
   "execution_count": 1,
   "metadata": {},
   "outputs": [
    {
     "name": "stderr",
     "output_type": "stream",
     "text": [
      "WARNING:root:USER_AGENT environment variable not set, consider setting it to identify your requests.\n"
     ]
    }
   ],
   "source": [
    "import os\n",
    "import re\n",
    "import getpass\n",
    "from typing import List, Dict\n",
    "from langchain.schema import Document\n",
    "from langchain.chat_models import ChatOpenAI\n",
    "from langchain.embeddings.openai import OpenAIEmbeddings\n",
    "from langchain.vectorstores import Redis\n",
    "from langchain.document_loaders import UnstructuredURLLoader\n",
    "from langchain.text_splitter import HTMLHeaderTextSplitter, RecursiveCharacterTextSplitter\n",
    "from langchain.chains import RetrievalQA\n",
    "from langchain.retrievers.self_query.base import SelfQueryRetriever\n",
    "from langchain.chains.query_constructor.base import (\n",
    "    get_query_constructor_prompt,\n",
    "    load_query_constructor_runnable,\n",
    "    AttributeInfo)\n",
    "from dotenv import load_dotenv\n",
    "load_dotenv(override=True)\n",
    "import sys \n",
    "sys.path.append(\"..\")\n",
    "from utils.database_managers import QDrantDBManager\n",
    "from utils.embedding import EmbeddingFunction\n",
    "from utils.text_processing import TextSplitter\n",
    "from utils.language_models import LangChainAI\n",
    "from langchain_groq import ChatGroq"
   ]
  },
  {
   "cell_type": "code",
   "execution_count": 2,
   "metadata": {},
   "outputs": [
    {
     "name": "stderr",
     "output_type": "stream",
     "text": [
      "c:\\Users\\ELAFACRB1\\Codice\\GitHub\\riassume\\riassume\\.venv\\Lib\\site-packages\\langchain_core\\_api\\deprecation.py:119: LangChainDeprecationWarning: The class `OpenAIEmbeddings` was deprecated in LangChain 0.0.9 and will be removed in 0.3.0. An updated version of the class exists in the langchain-openai package and should be used instead. To use it run `pip install -U langchain-openai` and import as `from langchain_openai import OpenAIEmbeddings`.\n",
      "  warn_deprecated(\n"
     ]
    },
    {
     "name": "stdout",
     "output_type": "stream",
     "text": [
      "Collection csv-openAI-embed already exists!\n"
     ]
    },
    {
     "name": "stderr",
     "output_type": "stream",
     "text": [
      "c:\\Users\\ELAFACRB1\\Codice\\GitHub\\riassume\\riassume\\.venv\\Lib\\site-packages\\langchain_core\\_api\\deprecation.py:119: LangChainDeprecationWarning: The class `Qdrant` was deprecated in LangChain 0.0.37 and will be removed in 0.3.0. An updated version of the class exists in the langchain-qdrant package and should be used instead. To use it run `pip install -U langchain-qdrant` and import as `from langchain_qdrant import Qdrant`.\n",
      "  warn_deprecated(\n"
     ]
    }
   ],
   "source": [
    "text_splitter = TextSplitter(\n",
    "    chunk_size=2000, \n",
    "    chunk_overlap=20\n",
    ")\n",
    "embedding = EmbeddingFunction('openAI').embedder\n",
    "QDRANT_URL=os.getenv('QDRANT_URL')\n",
    "COLLECTION_NAME=\"csv-openAI-embed\"\n",
    "\n",
    "qdrantClient = QDrantDBManager(\n",
    "    url=QDRANT_URL,\n",
    "    port=6333,\n",
    "    collection_name=COLLECTION_NAME,\n",
    "    vector_size=1536,\n",
    "    embedding=embedding,\n",
    "    record_manager_url=\"sqlite:///record_manager_cache.sql\"\n",
    ")\n",
    "retriever = qdrantClient.vector_store.as_retriever()"
   ]
  },
  {
   "cell_type": "code",
   "execution_count": 3,
   "metadata": {},
   "outputs": [],
   "source": [
    "llm = ChatGroq(model_name=\"llama3-70b-8192\", groq_api_key=os.getenv('GROQ_API_KEY'), temperature=0)"
   ]
  },
  {
   "cell_type": "code",
   "execution_count": 7,
   "metadata": {},
   "outputs": [],
   "source": [
    "def print_result(response_obj):\n",
    "    print(\"SOURCES: \\n\")\n",
    "    cnt = 1\n",
    "    for source_doc in response_obj[\"source_documents\"]:\n",
    "        print(f\"Prodotto #{cnt}\")\n",
    "        cnt += 1\n",
    "        # print(\"Source Metadata: \", source_doc.metadata)\n",
    "        print(\"Descrizione:\")\n",
    "        print(source_doc.page_content)\n",
    "        print(\"\\n\")\n",
    "    print(\"RESULT: \\n\")\n",
    "    print(response_obj[\"result\"] + \"\\n\\n\")"
   ]
  },
  {
   "cell_type": "code",
   "execution_count": 5,
   "metadata": {},
   "outputs": [],
   "source": [
    "retriever = RetrievalQA.from_chain_type(\n",
    "    llm=llm,\n",
    "    chain_type=\"stuff\",\n",
    "    retriever=retriever,\n",
    "    # we'll want to see source documents for comparison\n",
    "    return_source_documents=True\n",
    ")"
   ]
  },
  {
   "cell_type": "code",
   "execution_count": 6,
   "metadata": {},
   "outputs": [
    {
     "name": "stderr",
     "output_type": "stream",
     "text": [
      "c:\\Users\\ELAFACRB1\\Codice\\GitHub\\riassume\\riassume\\.venv\\Lib\\site-packages\\langchain_core\\_api\\deprecation.py:119: LangChainDeprecationWarning: The method `Chain.__call__` was deprecated in langchain 0.1.0 and will be removed in 0.3.0. Use invoke instead.\n",
      "  warn_deprecated(\n"
     ]
    },
    {
     "name": "stdout",
     "output_type": "stream",
     "text": [
      "SOURCES: \n",
      "\n",
      "Chunk #1\n",
      "Descrizione:\n",
      "Nome: Dell Alienware AW2523HF 25\"\n",
      "Descrizione: Monitor gaming da 25 pollici con pannello TN FHD (1920 x 1080)\n",
      "Link: https://www.hp.com/it-it/shop/product.aspx?id=780J4AA&opt=ABB&sel=MTO&gad_source=1&gclid=Cj0KCQjwsuSzBhCLARIsAIcdLm43Fk3Y2DeltVRzAZ3QH-3EBAKge7XxGyVeF9-xZyPA6XtzsT6kvNcaAneUEALw_wcB&gclsrc=aw.ds\n",
      "\n",
      "\n",
      "Chunk #2\n",
      "Descrizione:\n",
      "Nome: LG 27GP950-B 27\"\n",
      "Descrizione: Monitor gaming da 27 pollici con pannello Nano IPS QHD (2560 x 1440)\n",
      "Link: https://www.lg.com/it/monitor/gaming/27gp850p-b-baeu/?gad_source=1&gclid=Cj0KCQjwsuSzBhCLARIsAIcdLm7jazdjzrHL8Zs_eVzIKGcMgbIoomdq30onozCwN70Uup7iknXV0D8aAhtxEALw_wcB&gclsrc=aw.ds\n",
      "\n",
      "\n",
      "Chunk #3\n",
      "Descrizione:\n",
      "Nome: Acer Nitro XV282K KVbmiix 28\"\n",
      "Descrizione: Monitor gaming da 28 pollici con pannello IPS UHD (3840 x 2160)\n",
      "Link: https://www.mediaworld.it/it/product/_acer-nitro-xv275up3biiprx-27-pollici-2560-x-1440-pixel-212691.html?utm_source=trovaprezzi&utm_medium=psm-product%20feed&utm_campaign=rt_pricecomp_na_sp_na_alwayson-trovaprezzi\n",
      "\n",
      "\n",
      "Chunk #4\n",
      "Descrizione:\n",
      "Nome: ASUS ROG Swift PG32UQXE 32\"\n",
      "Descrizione: Monitor gaming da 32 pollici con pannello Mini LED UHD (3840 x 2160)\n",
      "Link: https://www.mediaworld.it/it/product/_asus-rog-strix-xg32aq-32-pollici-qhd-2560-x-1440-pixel-323462.html?utm_source=google&utm_medium=cpc&utm_campaign=rt_shopping_na_sp_na_offerte&utm_term=&utm_content=323462&gad_source=1&gclid=Cj0KCQjwsuSzBhCLARIsAIcdLm5m720iVRq7CeHGht5RJMaKaL4thyKrt6tA858kN6nrbM4fpkVwnhoaAkiZEALw_wcB&gclsrc=aw.ds\n",
      "\n",
      "\n",
      "RESULT: \n",
      "\n",
      "Sì, posso consigliarti un buon monitor da gaming da 25 pollici! \n",
      "\n",
      "Secondo la lista dei monitor che mi hai fornito, il Dell Alienware AW2523HF 25\" sembra essere una buona opzione. Ha un pannello TN FHD (1920 x 1080) e sembra essere specificamente progettato per il gaming.\n",
      "\n",
      "Tuttavia, se desideri ulteriori informazioni o recensioni su questo monitor, ti consiglio di fare una ricerca più approfondita prima di prendere una decisione.\n",
      "\n",
      "\n"
     ]
    }
   ],
   "source": [
    "# query = \"puoi consigliarmi un buon monitor da gaming da 25\"\" ? \"\n",
    "# response = retriever({\"query\":query})\n",
    "# print_result(response)"
   ]
  },
  {
   "cell_type": "code",
   "execution_count": null,
   "metadata": {},
   "outputs": [],
   "source": []
  }
 ],
 "metadata": {
  "kernelspec": {
   "display_name": ".venv",
   "language": "python",
   "name": "python3"
  },
  "language_info": {
   "codemirror_mode": {
    "name": "ipython",
    "version": 3
   },
   "file_extension": ".py",
   "mimetype": "text/x-python",
   "name": "python",
   "nbconvert_exporter": "python",
   "pygments_lexer": "ipython3",
   "version": "3.11.9"
  }
 },
 "nbformat": 4,
 "nbformat_minor": 2
}
